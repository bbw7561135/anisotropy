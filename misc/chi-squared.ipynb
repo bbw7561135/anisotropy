{
 "metadata": {
  "name": "",
  "signature": "sha256:a15016d09fae3f44cff17e745d45960fce05f3ca43c576d3e09aa5474891e8f5"
 },
 "nbformat": 3,
 "nbformat_minor": 0,
 "worksheets": [
  {
   "cells": [
    {
     "cell_type": "markdown",
     "metadata": {},
     "source": [
      "# Spherical harmonics fit to skymap\n",
      "The goal is to determine the best fit spherical harmonic expansion for a given skymap. Namely, we'd like to determine the expansion coeffcients, $a_{lm}$, given in\n",
      "\n",
      "$$\\textrm{map} = \\sum_{l=0}^{\\infty}\\sum_{m=-l}^{+l} a_{lm}Y^{m}_l(\\theta,\\phi)$$\n",
      "\n",
      "One way to do this is to perform a chi-squared test to find the optimum parameters. "
     ]
    },
    {
     "cell_type": "code",
     "collapsed": false,
     "input": [
      "import healpy as hp\n",
      "import numpy as np\n",
      "import ROOT\n",
      "import matplotlib.pyplot as plt\n",
      "from mapfunctions.mapFunctions import norm_sphharm\n",
      "%matplotlib inline"
     ],
     "language": "python",
     "metadata": {},
     "outputs": [],
     "prompt_number": 1
    },
    {
     "cell_type": "markdown",
     "metadata": {},
     "source": [
      "Read in data, background, and local coordinate maps"
     ]
    },
    {
     "cell_type": "code",
     "collapsed": false,
     "input": [
      "fit_file = '/data/user/fmcnally/anisotropy/maps/merged/IC_24H_sid.fits'\n",
      "data, bg, local = hp.read_map(fit_file, range(3),verbose=False)"
     ],
     "language": "python",
     "metadata": {},
     "outputs": [],
     "prompt_number": 2
    },
    {
     "cell_type": "code",
     "collapsed": false,
     "input": [
      "l = 2\n",
      "alpha = 1/20.\n",
      "opts = {'decmin':-90, 'decmax':-25}\n",
      "npix = len(data)\n",
      "nside = hp.npix2nside(npix)\n",
      "degree = np.pi/180.\n",
      "minZ = opts['decmin']*degree\n",
      "maxZ = opts['decmax']*degree"
     ],
     "language": "python",
     "metadata": {},
     "outputs": [],
     "prompt_number": 4
    },
    {
     "cell_type": "markdown",
     "metadata": {},
     "source": [
      "Usefule breakdown of $l, m$ values to be used"
     ]
    },
    {
     "cell_type": "code",
     "collapsed": false,
     "input": [
      "nsph = sum([2*l_i+1 for l_i in range(l+1)])\n",
      "lvals = [[l_i]*(2*l_i+1) for l_i in range(l+1)]\n",
      "lvals = [item for sublist in lvals for item in sublist]\n",
      "mvals = [[m for m in range(-l_i,l_i+1)] for l_i in range(l+1)]\n",
      "mvals = [item for sublist in mvals for item in sublist]\n",
      "print(lvals)\n",
      "print(mvals)"
     ],
     "language": "python",
     "metadata": {},
     "outputs": [
      {
       "output_type": "stream",
       "stream": "stdout",
       "text": [
        "[0, 1, 1, 1, 2, 2, 2, 2, 2]\n",
        "[0, -1, 0, 1, -2, -1, 0, 1, 2]\n"
       ]
      }
     ],
     "prompt_number": 4
    },
    {
     "cell_type": "markdown",
     "metadata": {},
     "source": [
      "Calculate relative intensity and variance"
     ]
    },
    {
     "cell_type": "code",
     "collapsed": false,
     "input": [
      "with np.errstate(invalid='ignore', divide='ignore'):\n",
      "    skymap = (data - bg) / bg\n",
      "    skymapVar = data * (bg + alpha*data) / (bg**3)\n",
      "skymap[np.isnan(skymap)] = 0\n",
      "skymapVar[np.isnan(skymapVar)] = np.inf"
     ],
     "language": "python",
     "metadata": {},
     "outputs": [],
     "prompt_number": 5
    },
    {
     "cell_type": "code",
     "collapsed": false,
     "input": [
      "print(skymap)"
     ],
     "language": "python",
     "metadata": {},
     "outputs": [
      {
       "output_type": "stream",
       "stream": "stdout",
       "text": [
        "[  3.45401247e-04  -7.36695308e-05  -3.93088153e-04 ...,  -9.15379340e-05\n",
        "   5.65963108e-06   8.86121877e-05]\n"
       ]
      }
     ],
     "prompt_number": 6
    },
    {
     "cell_type": "markdown",
     "metadata": {},
     "source": [
      "Restrict range to desired zenith angles"
     ]
    },
    {
     "cell_type": "code",
     "collapsed": false,
     "input": [
      "vx, vy, vz = hp.pix2vec(nside, [i for i in range(npix)])\n",
      "zcut = (vz >= minZ) * (vz <= maxZ)\n",
      "skymap[np.logical_not(zcut)] = 0\n",
      "skymapVar[np.logical_not(zcut)] = np.inf\n",
      "ndata = zcut.sum()\n",
      "print(skymap)\n",
      "print(skymap[len(skymap)-1])"
     ],
     "language": "python",
     "metadata": {},
     "outputs": [
      {
       "output_type": "stream",
       "stream": "stdout",
       "text": [
        "[  0.00000000e+00   0.00000000e+00   0.00000000e+00 ...,  -9.15379340e-05\n",
        "   5.65963108e-06   8.86121877e-05]\n",
        "8.86121877217e-05\n"
       ]
      }
     ],
     "prompt_number": 18
    },
    {
     "cell_type": "markdown",
     "metadata": {},
     "source": [
      "Chi-squared function to minimize for fit"
     ]
    },
    {
     "cell_type": "code",
     "collapsed": false,
     "input": [
      "def chi2(npar, derivatives, f, par, internal_flag):\n",
      "    fit = np.zeros(len(vx))\n",
      "    print('fit = {}'.format(fit))\n",
      "    for i in range(len(lvals)):\n",
      "        fit += par[i] * norm_sphharm(lvals[i], mvals[i], vx, vy, vz)\n",
      "        print('fit = {}'.format(norm_sphharm(lvals[i], mvals[i], vx, vy, vz)))\n",
      "    df = skymap - fit\n",
      "    f[0] = (df**2 / skymapVar).sum()"
     ],
     "language": "python",
     "metadata": {},
     "outputs": [],
     "prompt_number": 54
    },
    {
     "cell_type": "code",
     "collapsed": false,
     "input": [
      "def chi22(map,lmax):\n",
      "    lval = [[l_i]*(2*l_i+1) for l_i in range(lmax+1)]\n",
      "    lval = [item for sublist in lval for item in sublist]\n",
      "    mval = [[m for m in range(-l_i,l_i+1)] for l_i in range(lmax+1)]\n",
      "    mval = [item for sublist in mval for item in sublist]\n",
      "    print('lval = {}'.format(lval))\n",
      "    print('mval = {}'.format(mval))\n",
      "    npix = len(map)\n",
      "    nside = hp.npix2nside(npix)\n",
      "    vx, vy, vz = hp.pix2vec(nside, [i for i in range(npix)])\n",
      "    par = ['p{}'.format(i) for i in range(lmax)]\n",
      "    #par = [0.0]*len(lval)\n",
      "    print('par = {}'.format(par))\n",
      "    fit = np.zeros(len(vx))\n",
      "    #print('fit = {}'.format(fit))\n",
      "    for i in range(len(lval)):\n",
      "        print('i = {}'.format(i))\n",
      "        fit += par[i] * norm_sphharm(lval[i], mval[i], vx, vy, vz)\n",
      "        #print('fit = {}'.format(norm_sphharm(lvals[i], mvals[i], vx, vy, vz)))\n",
      "    df = skymap - fit\n",
      "    return (df**2 / skymapVar).sum()"
     ],
     "language": "python",
     "metadata": {},
     "outputs": [],
     "prompt_number": 36
    },
    {
     "cell_type": "code",
     "collapsed": false,
     "input": [
      "chi22(skymap,1)"
     ],
     "language": "python",
     "metadata": {},
     "outputs": [
      {
       "output_type": "stream",
       "stream": "stdout",
       "text": [
        "lval = [0, 1, 1, 1]\n",
        "mval = [0, -1, 0, 1]\n",
        "par = ['p0']\n",
        "i = 0\n"
       ]
      },
      {
       "ename": "TypeError",
       "evalue": "unsupported operand type(s) for +=: 'numpy.ndarray' and 'str'",
       "output_type": "pyerr",
       "traceback": [
        "\u001b[1;31m---------------------------------------------------------------------------\u001b[0m\n\u001b[1;31mTypeError\u001b[0m                                 Traceback (most recent call last)",
        "\u001b[1;32m<ipython-input-37-a728aa49ea40>\u001b[0m in \u001b[0;36m<module>\u001b[1;34m()\u001b[0m\n\u001b[1;32m----> 1\u001b[1;33m \u001b[0mchi22\u001b[0m\u001b[1;33m(\u001b[0m\u001b[0mskymap\u001b[0m\u001b[1;33m,\u001b[0m\u001b[1;36m1\u001b[0m\u001b[1;33m)\u001b[0m\u001b[1;33m\u001b[0m\u001b[0m\n\u001b[0m",
        "\u001b[1;32m<ipython-input-36-021c63658f93>\u001b[0m in \u001b[0;36mchi22\u001b[1;34m(map, lmax)\u001b[0m\n\u001b[0;32m     16\u001b[0m     \u001b[1;32mfor\u001b[0m \u001b[0mi\u001b[0m \u001b[1;32min\u001b[0m \u001b[0mrange\u001b[0m\u001b[1;33m(\u001b[0m\u001b[0mlen\u001b[0m\u001b[1;33m(\u001b[0m\u001b[0mlval\u001b[0m\u001b[1;33m)\u001b[0m\u001b[1;33m)\u001b[0m\u001b[1;33m:\u001b[0m\u001b[1;33m\u001b[0m\u001b[0m\n\u001b[0;32m     17\u001b[0m         \u001b[1;32mprint\u001b[0m\u001b[1;33m(\u001b[0m\u001b[1;34m'i = {}'\u001b[0m\u001b[1;33m.\u001b[0m\u001b[0mformat\u001b[0m\u001b[1;33m(\u001b[0m\u001b[0mi\u001b[0m\u001b[1;33m)\u001b[0m\u001b[1;33m)\u001b[0m\u001b[1;33m\u001b[0m\u001b[0m\n\u001b[1;32m---> 18\u001b[1;33m         \u001b[0mfit\u001b[0m \u001b[1;33m+=\u001b[0m \u001b[0mpar\u001b[0m\u001b[1;33m[\u001b[0m\u001b[0mi\u001b[0m\u001b[1;33m]\u001b[0m \u001b[1;33m*\u001b[0m \u001b[0mnorm_sphharm\u001b[0m\u001b[1;33m(\u001b[0m\u001b[0mlval\u001b[0m\u001b[1;33m[\u001b[0m\u001b[0mi\u001b[0m\u001b[1;33m]\u001b[0m\u001b[1;33m,\u001b[0m \u001b[0mmval\u001b[0m\u001b[1;33m[\u001b[0m\u001b[0mi\u001b[0m\u001b[1;33m]\u001b[0m\u001b[1;33m,\u001b[0m \u001b[0mvx\u001b[0m\u001b[1;33m,\u001b[0m \u001b[0mvy\u001b[0m\u001b[1;33m,\u001b[0m \u001b[0mvz\u001b[0m\u001b[1;33m)\u001b[0m\u001b[1;33m\u001b[0m\u001b[0m\n\u001b[0m\u001b[0;32m     19\u001b[0m         \u001b[1;31m#print('fit = {}'.format(norm_sphharm(lvals[i], mvals[i], vx, vy, vz)))\u001b[0m\u001b[1;33m\u001b[0m\u001b[1;33m\u001b[0m\u001b[0m\n\u001b[0;32m     20\u001b[0m     \u001b[0mdf\u001b[0m \u001b[1;33m=\u001b[0m \u001b[0mskymap\u001b[0m \u001b[1;33m-\u001b[0m \u001b[0mfit\u001b[0m\u001b[1;33m\u001b[0m\u001b[0m\n",
        "\u001b[1;31mTypeError\u001b[0m: unsupported operand type(s) for +=: 'numpy.ndarray' and 'str'"
       ]
      }
     ],
     "prompt_number": 37
    },
    {
     "cell_type": "code",
     "collapsed": false,
     "input": [
      "norm_sphharm(1,1,np.array([1.,4.]),np.array([2.,4.]),np.array([3.,5.]))"
     ],
     "language": "python",
     "metadata": {},
     "outputs": [
      {
       "metadata": {},
       "output_type": "pyout",
       "prompt_number": 17,
       "text": [
        "array([ 0.48860251,  1.95441005])"
       ]
      }
     ],
     "prompt_number": 17
    },
    {
     "cell_type": "code",
     "collapsed": false,
     "input": [
      "alm = hp.sphtfunc.map2alm(skymap,lmax=1)\n",
      "print(alm)"
     ],
     "language": "python",
     "metadata": {},
     "outputs": [
      {
       "output_type": "stream",
       "stream": "stdout",
       "text": [
        "[  4.84926362e-20+0.j          -2.29544586e-08+0.j\n",
        "  -3.20692483e-04+0.00028382j]\n"
       ]
      }
     ],
     "prompt_number": 18
    },
    {
     "cell_type": "code",
     "collapsed": false,
     "input": [
      "map = hp.sphtfunc.alm2map(alm,nside)\n",
      "print(map)"
     ],
     "language": "python",
     "metadata": {},
     "outputs": [
      {
       "output_type": "stream",
       "stream": "stdout",
       "text": [
        "Sigma is 0.000000 arcmin (0.000000 rad) \n",
        "-> fwhm is 0.000000 arcmin\n",
        "[  2.50403607e-06   6.66407942e-08  -2.63285159e-06 ...,   1.95456309e-07\n",
        "  -2.50403607e-06  -6.66407942e-08]\n"
       ]
      }
     ],
     "prompt_number": 57
    },
    {
     "cell_type": "code",
     "collapsed": false,
     "input": [
      "hp.fitsfunc.write_map('almmap.fits',map,coord='C')"
     ],
     "language": "python",
     "metadata": {},
     "outputs": [
      {
       "output_type": "stream",
       "stream": "stderr",
       "text": [
        "Overwriting existing file 'almmap.fits'.\n"
       ]
      }
     ],
     "prompt_number": 58
    },
    {
     "cell_type": "code",
     "collapsed": false,
     "input": [
      "# Mollweide (default) or Cartesian projection\n",
      "proj = 'Mollweide'\n",
      "projaxis = hp.projaxes.HpxMollweideAxes\n",
      "fig = plt.figure(1)\n",
      "pltParams = {'fig':1, 'rot':180, \\\n",
      "             'cbar':False, 'notext':True, 'coord':'C', \\\n",
      "             'cmap':plt.get_cmap('jet')}\n",
      "hp.mollview(map, **pltParams)"
     ],
     "language": "python",
     "metadata": {},
     "outputs": [
      {
       "metadata": {},
       "output_type": "display_data",
       "png": "[encoded data removed]",
       "text": [
        "<matplotlib.figure.Figure at 0x511aed0>"
       ]
      }
     ],
     "prompt_number": 59
    },
    {
     "cell_type": "code",
     "collapsed": false,
     "input": [],
     "language": "python",
     "metadata": {},
     "outputs": [],
     "prompt_number": 59
    }
   ],
   "metadata": {}
  }
 ]
}
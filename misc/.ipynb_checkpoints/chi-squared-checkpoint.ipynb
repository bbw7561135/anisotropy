{
 "metadata": {
  "name": "",
  "signature": "sha256:2a88a57abecf2c6ba063676037190523defd19ee07d7e1289ca5a1c82569fe4f"
 },
 "nbformat": 3,
 "nbformat_minor": 0,
 "worksheets": [
  {
   "cells": [
    {
     "cell_type": "markdown",
     "metadata": {},
     "source": [
      "# Spherical harmonics fit to skymap\n",
      "The goal is to determine the best fit spherical harmonic expansion for a given skymap. Namely, we'd like to determine the expansion coeffcients, $a_{lm}$, given in\n",
      "\n",
      "$$\\textrm{map} = \\sum_{l=0}^{\\infty}\\sum_{m=-l}^{+l} a_{lm}Y^{m}_l(\\theta,\\phi)$$\n",
      "\n",
      "One way to do this is to perform a chi-squared test to find the optimum parameters. "
     ]
    },
    {
     "cell_type": "code",
     "collapsed": false,
     "input": [
      "import healpy as hp\n",
      "import numpy as np\n",
      "import ROOT\n",
      "import matplotlib.pyplot as plt\n",
      "from mapfunctions.mapFunctions import norm_sphharm"
     ],
     "language": "python",
     "metadata": {},
     "outputs": [],
     "prompt_number": 20
    },
    {
     "cell_type": "markdown",
     "metadata": {},
     "source": [
      "Read in data, background, and local coordinate maps"
     ]
    },
    {
     "cell_type": "code",
     "collapsed": false,
     "input": [
      "fit_file = '/data/user/fmcnally/anisotropy/maps/merged/IC_24H_sid.fits'\n",
      "data, bg, local = hp.read_map(fit_file, range(3),verbose=False)"
     ],
     "language": "python",
     "metadata": {},
     "outputs": [],
     "prompt_number": 18
    },
    {
     "cell_type": "code",
     "collapsed": false,
     "input": [
      "l = 2\n",
      "alpha = 1/20.\n",
      "opts = {'decmin':-90, 'decmax':-25}\n",
      "npix = len(data)\n",
      "nside = hp.npix2nside(npix)\n",
      "degree = np.pi/180.\n",
      "minZ = opts['decmin']*degree\n",
      "maxZ = opts['decmax']*degree"
     ],
     "language": "python",
     "metadata": {},
     "outputs": [],
     "prompt_number": 29
    },
    {
     "cell_type": "markdown",
     "metadata": {},
     "source": [
      "Usefule breakdown of $l, m$ values to be used"
     ]
    },
    {
     "cell_type": "code",
     "collapsed": false,
     "input": [
      "nsph = sum([2*l_i+1 for l_i in range(l+1)])\n",
      "lvals = [[l_i]*(2*l_i+1) for l_i in range(l+1)]\n",
      "lvals = [item for sublist in lvals for item in sublist]\n",
      "mvals = [[m for m in range(-l_i,l_i+1)] for l_i in range(l+1)]\n",
      "mvals = [item for sublist in mvals for item in sublist]\n",
      "print(lvals)\n",
      "print(mvals)"
     ],
     "language": "python",
     "metadata": {},
     "outputs": [
      {
       "output_type": "stream",
       "stream": "stdout",
       "text": [
        "[0, 1, 1, 1, 2, 2, 2, 2, 2]\n",
        "[0, -1, 0, 1, -2, -1, 0, 1, 2]\n"
       ]
      }
     ],
     "prompt_number": 27
    },
    {
     "cell_type": "markdown",
     "metadata": {},
     "source": [
      "Calculate relative intensity and variance"
     ]
    },
    {
     "cell_type": "code",
     "collapsed": false,
     "input": [
      "with np.errstate(invalid='ignore', divide='ignore'):\n",
      "    skymap = (data - bg) / bg\n",
      "    skymapVar = data * (bg + alpha*data) / (bg**3)\n",
      "skymap[np.isnan(skymap)] = 0\n",
      "skymapVar[np.isnan(skymapVar)] = np.inf"
     ],
     "language": "python",
     "metadata": {},
     "outputs": [],
     "prompt_number": 48
    },
    {
     "cell_type": "markdown",
     "metadata": {},
     "source": [
      "Restrict range to desired zenith angles"
     ]
    },
    {
     "cell_type": "code",
     "collapsed": false,
     "input": [
      "vx, vy, vz = hp.pix2vec(nside, [i for i in range(npix)])\n",
      "zcut = (vz >= minZ) * (vz <= maxZ)\n",
      "skymap[np.logical_not(zcut)] = 0\n",
      "skymapVar[np.logical_not(zcut)] = np.inf\n",
      "ndata = zcut.sum()"
     ],
     "language": "python",
     "metadata": {},
     "outputs": [],
     "prompt_number": 57
    },
    {
     "cell_type": "markdown",
     "metadata": {},
     "source": [
      "Chi-squared function to minimize for fit"
     ]
    },
    {
     "cell_type": "code",
     "collapsed": false,
     "input": [
      "def chi2(npar, derivatives, f, par, internal_flag):\n",
      "    fit = np.zeros(len(vx))\n",
      "    for i in range(len(lvals)):\n",
      "        fit += par[i] * norm_sphharm(lvals[i], mvals[i], vx, vy, vz)\n",
      "    df = skymap - fit\n",
      "    f[0] = (df**2 / skymapVar).sum()"
     ],
     "language": "python",
     "metadata": {},
     "outputs": [],
     "prompt_number": 58
    },
    {
     "cell_type": "code",
     "collapsed": false,
     "input": [],
     "language": "python",
     "metadata": {},
     "outputs": []
    }
   ],
   "metadata": {}
  }
 ]
}
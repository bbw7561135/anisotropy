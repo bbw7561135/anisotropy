{
 "metadata": {
  "name": "",
  "signature": "sha256:6eeb1810d1554ffcd14ef2196c6f91e85ee73d86b12081833f336579e34d6eb1"
 },
 "nbformat": 3,
 "nbformat_minor": 0,
 "worksheets": []
}
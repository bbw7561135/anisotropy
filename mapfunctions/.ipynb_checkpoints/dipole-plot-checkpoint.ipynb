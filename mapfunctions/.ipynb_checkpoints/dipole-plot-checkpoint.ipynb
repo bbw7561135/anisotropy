{
 "metadata": {
  "kernelspec": {
   "display_name": "Python 3",
   "language": "python",
   "name": "python3"
  },
  "language_info": {
   "codemirror_mode": {
    "name": "ipython",
    "version": 3
   },
   "file_extension": ".py",
   "mimetype": "text/x-python",
   "name": "python",
   "nbconvert_exporter": "python",
   "pygments_lexer": "ipython3",
   "version": "3.5.0"
  },
  "name": "",
  "signature": "sha256:50b3aad650414a06c49d03383d3c5c1a44fd1d8c1582715266b987d23c835ab8"
 },
 "nbformat": 3,
 "nbformat_minor": 0,
 "worksheets": [
  {
   "cells": [
    {
     "cell_type": "markdown",
     "metadata": {},
     "source": [
      "# Dipole strength as a function of IceCube energy bins\n",
      "### James Bourbeau"
     ]
    },
    {
     "cell_type": "code",
     "collapsed": true,
     "input": [
      "%matplotlib inline"
     ],
     "language": "python",
     "metadata": {},
     "outputs": [],
     "prompt_number": 1
    },
    {
     "cell_type": "code",
     "collapsed": true,
     "input": [
      "import numpy as np\n",
      "import matplotlib.pyplot as plt\n",
      "from matplotlib import rc\n",
      "import healpy as hp"
     ],
     "language": "python",
     "metadata": {},
     "outputs": [],
     "prompt_number": 2
    },
    {
     "cell_type": "code",
     "collapsed": false,
     "input": [
      "rc('font', **{'family': 'serif', 'serif': ['Computer Modern']})\n",
      "rc('text', usetex=True)"
     ],
     "language": "python",
     "metadata": {},
     "outputs": [],
     "prompt_number": 3
    },
    {
     "cell_type": "code",
     "collapsed": false,
     "input": [
      "data = np.loadtxt('multipole-fits-dipole.txt')\n",
      "#print('data = {}'.format(data))\n",
      "#print('data[0][1] = {}'.format(data[0][1]))\n",
      "bins = []\n",
      "dipoles = []\n",
      "for i in range(len(data)):\n",
      "    dipoles.append(np.sqrt(3.0/(4.0*np.pi))*np.sqrt(data[i][2]**2.0+data[i][6]**2.0))\n",
      "    bins.append(int(i+1))\n",
      "print('dipoles = {}'.format(dipoles))"
     ],
     "language": "python",
     "metadata": {
      "scrolled": true
     },
     "outputs": [
      {
       "output_type": "stream",
       "stream": "stdout",
       "text": [
        "dipoles = [12.731169048986793, 10.4748960373398, 6.8839746822671986, 4.0927704174525825, 2.5108932724204562, 1.5652839598454884, 4.1679484005286094, 4.3216793849553161, 8.4379927552755856, 12.887643955203908]\n"
       ]
      }
     ],
     "prompt_number": 4
    },
    {
     "cell_type": "code",
     "collapsed": false,
     "input": [
      "fig = plt.figure(1)\n",
      "plt.plot(bins,dipoles,marker='.',markersize=10,linestyle='-.')\n",
      "ax = fig.axes[0]\n",
      "ax.axis('on')\n",
      "#ax.set_ylim(0.0,50.0)\n",
      "ax.set_xlabel(r'IC Energy bin')\n",
      "ax.set_ylabel(r'Dipole Strength')\n",
      "#plt.savefig('dipole.png',dpi=300, bbox_inches='tight')\n",
      "plt.show()"
     ],
     "language": "python",
     "metadata": {
      "scrolled": true
     },
     "outputs": [
      {
       "metadata": {},
       "output_type": "display_data",
       "png": "[encoded data removed]",
       "text": [
        "<matplotlib.figure.Figure at 0x2b61190>"
       ]
      }
     ],
     "prompt_number": 8
    },
    {
     "cell_type": "code",
     "collapsed": false,
     "input": [
      "1+1"
     ],
     "language": "python",
     "metadata": {},
     "outputs": [
      {
       "metadata": {},
       "output_type": "pyout",
       "prompt_number": 5,
       "text": [
        "2"
       ]
      }
     ],
     "prompt_number": 5
    },
    {
     "cell_type": "code",
     "collapsed": true,
     "input": [],
     "language": "python",
     "metadata": {},
     "outputs": [],
     "prompt_number": null
    }
   ],
   "metadata": {}
  }
 ]
}